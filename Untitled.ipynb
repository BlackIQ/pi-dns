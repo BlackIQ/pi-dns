{
 "cells": [
  {
   "cell_type": "code",
   "execution_count": 42,
   "id": "7fe87180",
   "metadata": {},
   "outputs": [],
   "source": [
    "import requests\n",
    "from bs4 import BeautifulSoup"
   ]
  },
  {
   "cell_type": "code",
   "execution_count": 43,
   "id": "92c0fe1b",
   "metadata": {
    "scrolled": true
   },
   "outputs": [],
   "source": [
    "tci_url = \"https://adsl.tci.ir/panel/\"\n",
    "\n",
    "headers = {\n",
    "    \"Cookie\": \"PHPSESSID=pdvuqd7f34p4e9hr8gf8c901rb; cookiesession1=678B2868F0C232F0973F1519DAA2F45C\"\n",
    "}\n",
    "\n",
    "tci_raw = requests.get(tci_url, headers=headers)\n",
    "\n",
    "soup = BeautifulSoup(tci_raw.content, 'html.parser')"
   ]
  },
  {
   "cell_type": "code",
   "execution_count": 44,
   "id": "8dae708c",
   "metadata": {},
   "outputs": [
    {
     "data": {
      "text/plain": [
       "'100.99.173.159'"
      ]
     },
     "execution_count": 44,
     "metadata": {},
     "output_type": "execute_result"
    }
   ],
   "source": [
    "ip = soup.select_one('table.uk-table.uk-table-striped tr td:last-child b').text\n",
    "\n",
    "ip"
   ]
  }
 ],
 "metadata": {
  "kernelspec": {
   "display_name": "Python 3 (ipykernel)",
   "language": "python",
   "name": "python3"
  },
  "language_info": {
   "codemirror_mode": {
    "name": "ipython",
    "version": 3
   },
   "file_extension": ".py",
   "mimetype": "text/x-python",
   "name": "python",
   "nbconvert_exporter": "python",
   "pygments_lexer": "ipython3",
   "version": "3.11.2"
  }
 },
 "nbformat": 4,
 "nbformat_minor": 5
}
